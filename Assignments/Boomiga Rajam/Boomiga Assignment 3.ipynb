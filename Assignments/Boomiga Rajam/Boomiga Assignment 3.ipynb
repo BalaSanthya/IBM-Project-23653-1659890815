{
 "cells": [
  {
   "cell_type": "markdown",
   "id": "2cfee458",
   "metadata": {},
   "source": [
    "**IMAGE AUGMENTATION**"
   ]
  },
  {
   "cell_type": "code",
   "execution_count": 2,
   "id": "54b46999",
   "metadata": {},
   "outputs": [],
   "source": [
    "from tensorflow.keras.preprocessing.image import ImageDataGenerator\n",
    "from PIL import Image\n",
    "import scipy"
   ]
  },
  {
   "cell_type": "code",
   "execution_count": 3,
   "id": "504b78bb",
   "metadata": {},
   "outputs": [],
   "source": [
    "train_datagen=ImageDataGenerator(rescale=1./255, zoom_range=0.2,horizontal_flip=True,vertical_flip=False)"
   ]
  },
  {
   "cell_type": "code",
   "execution_count": 4,
   "id": "2a64bedc",
   "metadata": {},
   "outputs": [],
   "source": [
    "test_datagen=ImageDataGenerator(rescale=1./255)"
   ]
  },
  {
   "cell_type": "code",
   "execution_count": 5,
   "id": "d31cb110",
   "metadata": {},
   "outputs": [
    {
     "name": "stdout",
     "output_type": "stream",
     "text": [
      "Found 3670 images belonging to 1 classes.\n"
     ]
    }
   ],
   "source": [
    "x_train=train_datagen.flow_from_directory(r\"C:\\Users\\Public\\Downloads\",target_size=(64,64),class_mode='categorical',batch_size=24)"
   ]
  },
  {
   "cell_type": "code",
   "execution_count": 6,
   "id": "49c03dd1",
   "metadata": {},
   "outputs": [
    {
     "name": "stdout",
     "output_type": "stream",
     "text": [
      "Found 3670 images belonging to 1 classes.\n"
     ]
    }
   ],
   "source": [
    "x_test=test_datagen.flow_from_directory(r\"C:\\Users\\Public\\Downloads\",target_size=(64,64),class_mode='categorical',batch_size=24)\n"
   ]
  },
  {
   "cell_type": "code",
   "execution_count": 7,
   "id": "3d01c53a",
   "metadata": {},
   "outputs": [
    {
     "data": {
      "text/plain": [
       "{'flowers': 0}"
      ]
     },
     "execution_count": 7,
     "metadata": {},
     "output_type": "execute_result"
    }
   ],
   "source": [
    "x_train.class_indices"
   ]
  },
  {
   "cell_type": "markdown",
   "id": "4bec57c7",
   "metadata": {},
   "source": [
    "**INITIALIZING CNN AND CREATE MODEL**"
   ]
  },
  {
   "cell_type": "code",
   "execution_count": 8,
   "id": "b6e74f01",
   "metadata": {},
   "outputs": [],
   "source": [
    "from tensorflow.keras.models import Sequential\n",
    "from tensorflow.keras.layers import Dense,Convolution2D,MaxPooling2D,Flatten"
   ]
  },
  {
   "cell_type": "markdown",
   "id": "e185e909",
   "metadata": {},
   "source": [
    "**ADD LAYERS**"
   ]
  },
  {
   "cell_type": "code",
   "execution_count": 9,
   "id": "1c30b923",
   "metadata": {},
   "outputs": [],
   "source": [
    "model=Sequential()"
   ]
  },
  {
   "cell_type": "markdown",
   "id": "a544e5e1",
   "metadata": {},
   "source": [
    "**INPUT LAYERS (CONVOLUTION ,MAXPOOLING,FLATTEN)**"
   ]
  },
  {
   "cell_type": "code",
   "execution_count": 10,
   "id": "b385a497",
   "metadata": {},
   "outputs": [],
   "source": [
    "model.add(Convolution2D(32,(3,3),input_shape=(64,64,3),activation='relu'))"
   ]
  },
  {
   "cell_type": "code",
   "execution_count": 11,
   "id": "c71d6b48",
   "metadata": {},
   "outputs": [],
   "source": [
    "model.add(MaxPooling2D(pool_size=(2,2)))"
   ]
  },
  {
   "cell_type": "code",
   "execution_count": 12,
   "id": "8ba85e50",
   "metadata": {},
   "outputs": [],
   "source": [
    "model.add(Flatten())"
   ]
  },
  {
   "cell_type": "code",
   "execution_count": 13,
   "id": "b476b265",
   "metadata": {},
   "outputs": [
    {
     "name": "stdout",
     "output_type": "stream",
     "text": [
      "Model: \"sequential\"\n",
      "_________________________________________________________________\n",
      " Layer (type)                Output Shape              Param #   \n",
      "=================================================================\n",
      " conv2d (Conv2D)             (None, 62, 62, 32)        896       \n",
      "                                                                 \n",
      " max_pooling2d (MaxPooling2D  (None, 31, 31, 32)       0         \n",
      " )                                                               \n",
      "                                                                 \n",
      " flatten (Flatten)           (None, 30752)             0         \n",
      "                                                                 \n",
      "=================================================================\n",
      "Total params: 896\n",
      "Trainable params: 896\n",
      "Non-trainable params: 0\n",
      "_________________________________________________________________\n"
     ]
    }
   ],
   "source": [
    "model.summary()"
   ]
  },
  {
   "cell_type": "markdown",
   "id": "f7d3015d",
   "metadata": {},
   "source": [
    "**HIDDEN LAYERS**"
   ]
  },
  {
   "cell_type": "code",
   "execution_count": 14,
   "id": "464b108e",
   "metadata": {},
   "outputs": [],
   "source": [
    "model.add(Dense(300,activation='relu'))\n",
    "model.add(Dense(150,activation='relu'))"
   ]
  },
  {
   "cell_type": "markdown",
   "id": "04878262",
   "metadata": {},
   "source": [
    "**OUTPUT LAYERS**"
   ]
  },
  {
   "cell_type": "code",
   "execution_count": 15,
   "id": "b98b0974",
   "metadata": {},
   "outputs": [],
   "source": [
    "model.add(Dense(5,activation='softmax'))"
   ]
  },
  {
   "cell_type": "code",
   "execution_count": 16,
   "id": "71dfff39",
   "metadata": {},
   "outputs": [],
   "source": [
    "model.compile(loss='categorical_crossentropy',optimizer='adam',metrics=['accuracy'])"
   ]
  },
  {
   "cell_type": "code",
   "execution_count": 17,
   "id": "7676494a",
   "metadata": {},
   "outputs": [
    {
     "data": {
      "text/plain": [
       "153"
      ]
     },
     "execution_count": 17,
     "metadata": {},
     "output_type": "execute_result"
    }
   ],
   "source": [
    "len(x_train)"
   ]
  },
  {
   "cell_type": "markdown",
   "id": "318d9884",
   "metadata": {},
   "source": [
    "**TRAIN THE MODEL**"
   ]
  },
  {
   "cell_type": "code",
   "execution_count": 18,
   "id": "62da4cd4",
   "metadata": {},
   "outputs": [
    {
     "name": "stderr",
     "output_type": "stream",
     "text": [
      "C:\\Users\\user\\AppData\\Local\\Temp\\ipykernel_12444\\3822225211.py:1: UserWarning: `Model.fit_generator` is deprecated and will be removed in a future version. Please use `Model.fit`, which supports generators.\n",
      "  model.fit_generator(x_train,steps_per_epoch=len(x_train), validation_data=x_test, validation_steps=len(x_test), epochs= 30)\n"
     ]
    },
    {
     "name": "stdout",
     "output_type": "stream",
     "text": [
      "Epoch 1/30\n",
      "153/153 [==============================] - 54s 350ms/step - loss: 19674.7031 - accuracy: 0.2232 - val_loss: 69689.6406 - val_accuracy: 0.0000e+00\n",
      "Epoch 2/30\n",
      "153/153 [==============================] - 27s 175ms/step - loss: 394355.9688 - accuracy: 0.1956 - val_loss: 1086979.1250 - val_accuracy: 0.0000e+00\n",
      "Epoch 3/30\n",
      "153/153 [==============================] - 26s 173ms/step - loss: 2247167.5000 - accuracy: 0.2027 - val_loss: 1404882.5000 - val_accuracy: 1.0000\n",
      "Epoch 4/30\n",
      "153/153 [==============================] - 27s 174ms/step - loss: 8381527.5000 - accuracy: 0.1962 - val_loss: 20989960.0000 - val_accuracy: 0.0000e+00\n",
      "Epoch 5/30\n",
      "153/153 [==============================] - 27s 174ms/step - loss: 15195989.0000 - accuracy: 0.2022 - val_loss: 18476496.0000 - val_accuracy: 0.0000e+00\n",
      "Epoch 6/30\n",
      "153/153 [==============================] - 26s 173ms/step - loss: 30079772.0000 - accuracy: 0.2027 - val_loss: 65217000.0000 - val_accuracy: 0.0000e+00\n",
      "Epoch 7/30\n",
      "153/153 [==============================] - 26s 173ms/step - loss: 37449904.0000 - accuracy: 0.2027 - val_loss: 77114224.0000 - val_accuracy: 0.0000e+00\n",
      "Epoch 8/30\n",
      "153/153 [==============================] - 27s 173ms/step - loss: 72939392.0000 - accuracy: 0.2022 - val_loss: 160400240.0000 - val_accuracy: 0.0000e+00\n",
      "Epoch 9/30\n",
      "153/153 [==============================] - 27s 174ms/step - loss: 109821512.0000 - accuracy: 0.1962 - val_loss: 96856280.0000 - val_accuracy: 1.0000\n",
      "Epoch 10/30\n",
      "153/153 [==============================] - 27s 173ms/step - loss: 160217984.0000 - accuracy: 0.2027 - val_loss: 192739232.0000 - val_accuracy: 0.0000e+00\n",
      "Epoch 11/30\n",
      "153/153 [==============================] - 27s 174ms/step - loss: 177835216.0000 - accuracy: 0.1962 - val_loss: 161889776.0000 - val_accuracy: 1.0000\n",
      "Epoch 12/30\n",
      "153/153 [==============================] - 27s 174ms/step - loss: 206646112.0000 - accuracy: 0.2093 - val_loss: 339424736.0000 - val_accuracy: 0.0000e+00\n",
      "Epoch 13/30\n",
      "153/153 [==============================] - 27s 175ms/step - loss: 271058240.0000 - accuracy: 0.1962 - val_loss: 199989392.0000 - val_accuracy: 1.0000\n",
      "Epoch 14/30\n",
      "153/153 [==============================] - 27s 174ms/step - loss: 338360288.0000 - accuracy: 0.1935 - val_loss: 261712720.0000 - val_accuracy: 1.0000\n",
      "Epoch 15/30\n",
      "153/153 [==============================] - 26s 172ms/step - loss: 404913472.0000 - accuracy: 0.2030 - val_loss: 299777792.0000 - val_accuracy: 0.0000e+00\n",
      "Epoch 16/30\n",
      "153/153 [==============================] - 27s 174ms/step - loss: 421297184.0000 - accuracy: 0.2005 - val_loss: 238516720.0000 - val_accuracy: 0.0000e+00\n",
      "Epoch 17/30\n",
      "153/153 [==============================] - 27s 174ms/step - loss: 415404736.0000 - accuracy: 0.1959 - val_loss: 544553152.0000 - val_accuracy: 1.0000\n",
      "Epoch 18/30\n",
      "153/153 [==============================] - 27s 173ms/step - loss: 578083136.0000 - accuracy: 0.2071 - val_loss: 188754256.0000 - val_accuracy: 0.0000e+00\n",
      "Epoch 19/30\n",
      "153/153 [==============================] - 26s 173ms/step - loss: 587124352.0000 - accuracy: 0.2027 - val_loss: 695003328.0000 - val_accuracy: 0.0000e+00\n",
      "Epoch 20/30\n",
      "153/153 [==============================] - 27s 173ms/step - loss: 600665600.0000 - accuracy: 0.2027 - val_loss: 570968512.0000 - val_accuracy: 0.0000e+00\n",
      "Epoch 21/30\n",
      "153/153 [==============================] - 27s 174ms/step - loss: 803088064.0000 - accuracy: 0.1946 - val_loss: 987433152.0000 - val_accuracy: 0.0000e+00\n",
      "Epoch 22/30\n",
      "153/153 [==============================] - 27s 175ms/step - loss: 1258800512.0000 - accuracy: 0.2022 - val_loss: 1941127936.0000 - val_accuracy: 0.0000e+00\n",
      "Epoch 23/30\n",
      "153/153 [==============================] - 26s 173ms/step - loss: 1057017024.0000 - accuracy: 0.1962 - val_loss: 856730624.0000 - val_accuracy: 1.0000\n",
      "Epoch 24/30\n",
      "153/153 [==============================] - 26s 173ms/step - loss: 1235364224.0000 - accuracy: 0.2033 - val_loss: 476440800.0000 - val_accuracy: 0.0000e+00\n",
      "Epoch 25/30\n",
      "153/153 [==============================] - 26s 172ms/step - loss: 1359812736.0000 - accuracy: 0.2027 - val_loss: 845220736.0000 - val_accuracy: 0.0000e+00\n",
      "Epoch 26/30\n",
      "153/153 [==============================] - 26s 173ms/step - loss: 1283276160.0000 - accuracy: 0.2022 - val_loss: 1203976704.0000 - val_accuracy: 0.0000e+00\n",
      "Epoch 27/30\n",
      "153/153 [==============================] - 27s 174ms/step - loss: 1526471680.0000 - accuracy: 0.2082 - val_loss: 1377668352.0000 - val_accuracy: 0.0000e+00\n",
      "Epoch 28/30\n",
      "153/153 [==============================] - 27s 175ms/step - loss: 1354850816.0000 - accuracy: 0.1896 - val_loss: 1657846656.0000 - val_accuracy: 0.0000e+00\n",
      "Epoch 29/30\n",
      "153/153 [==============================] - 27s 175ms/step - loss: 1661484672.0000 - accuracy: 0.2076 - val_loss: 2071971200.0000 - val_accuracy: 0.0000e+00\n",
      "Epoch 30/30\n",
      "153/153 [==============================] - 27s 176ms/step - loss: 1955898112.0000 - accuracy: 0.2027 - val_loss: 779956032.0000 - val_accuracy: 0.0000e+00\n"
     ]
    },
    {
     "data": {
      "text/plain": [
       "<keras.callbacks.History at 0x29609e52b80>"
      ]
     },
     "execution_count": 18,
     "metadata": {},
     "output_type": "execute_result"
    }
   ],
   "source": [
    "model.fit_generator(x_train,steps_per_epoch=len(x_train), validation_data=x_test, validation_steps=len(x_test), epochs= 30)"
   ]
  },
  {
   "cell_type": "markdown",
   "id": "98671ac0",
   "metadata": {},
   "source": [
    "**SAVE THE MODEL**"
   ]
  },
  {
   "cell_type": "code",
   "execution_count": 19,
   "id": "d9ff9f5a",
   "metadata": {},
   "outputs": [],
   "source": [
    "model.save('Flowers_classification_model1.h5')"
   ]
  },
  {
   "cell_type": "markdown",
   "id": "9ef72c82",
   "metadata": {},
   "source": [
    "**TEST THE MODEL**"
   ]
  },
  {
   "cell_type": "code",
   "execution_count": 20,
   "id": "d4f81760",
   "metadata": {},
   "outputs": [],
   "source": [
    "import numpy as np\n",
    "from tensorflow.keras.models import load_model\n",
    "from tensorflow.keras.preprocessing import image"
   ]
  },
  {
   "cell_type": "code",
   "execution_count": 21,
   "id": "42340290",
   "metadata": {},
   "outputs": [],
   "source": [
    "# Load the model\n",
    "model=load_model('Flowers_classification_model1.h5')"
   ]
  },
  {
   "cell_type": "code",
   "execution_count": null,
   "id": "8e53cc10",
   "metadata": {},
   "outputs": [],
   "source": []
  }
 ],
 "metadata": {
  "kernelspec": {
   "display_name": "Python 3 (ipykernel)",
   "language": "python",
   "name": "python3"
  },
  "language_info": {
   "codemirror_mode": {
    "name": "ipython",
    "version": 3
   },
   "file_extension": ".py",
   "mimetype": "text/x-python",
   "name": "python",
   "nbconvert_exporter": "python",
   "pygments_lexer": "ipython3",
   "version": "3.9.12"
  }
 },
 "nbformat": 4,
 "nbformat_minor": 5
}
